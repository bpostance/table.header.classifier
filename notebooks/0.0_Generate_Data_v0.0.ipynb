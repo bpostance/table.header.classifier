{
 "cells": [
  {
   "cell_type": "markdown",
   "metadata": {},
   "source": [
    "# Dummy Data"
   ]
  },
  {
   "cell_type": "code",
   "execution_count": 1,
   "metadata": {},
   "outputs": [],
   "source": [
    "import pandas as pd\n",
    "import numpy as np\n",
    "import random\n",
    "import os"
   ]
  },
  {
   "cell_type": "code",
   "execution_count": 2,
   "metadata": {},
   "outputs": [],
   "source": [
    "data_path = 'P:\\\\MyWork\\\\demoHeaderPredictor\\\\data'\n",
    "data_path_external = 'P:\\\\MyWork\\\\demoHeaderPredictor\\\\data\\\\external'\n",
    "data_path_model = 'P:\\\\MyWork\\\\demoHeaderPredictor\\\\data\\\\model'"
   ]
  },
  {
   "cell_type": "markdown",
   "metadata": {},
   "source": [
    "## Random Geo Coords"
   ]
  },
  {
   "cell_type": "code",
   "execution_count": 3,
   "metadata": {},
   "outputs": [
    {
     "name": "stdout",
     "output_type": "stream",
     "text": [
      "(-71.21191399349453, -25.538663698021836)\n",
      "(-50.82038438094108, -13.274241458187177)\n"
     ]
    }
   ],
   "source": [
    "def rand_coord():\n",
    "    return random.uniform(-180,180), random.uniform(-90, 90)\n",
    "\n",
    "points = (rand_coord() for x in range(2))\n",
    "for point in points:\n",
    "    print(point)\n",
    "    \n",
    "# other systems: https://gis.stackexchange.com/questions/78838/converting-projected-coordinates-to-lat-lon-using-python"
   ]
  },
  {
   "cell_type": "markdown",
   "metadata": {},
   "source": [
    "## Random Emails"
   ]
  },
  {
   "cell_type": "code",
   "execution_count": 4,
   "metadata": {},
   "outputs": [
    {
     "data": {
      "text/plain": [
       "['ke@gmail.com',\n",
       " 'uvuj@aol.com',\n",
       " 'yo@yahoo.com',\n",
       " 'zoacw@hotmail.com',\n",
       " 'yekhmw@gmail.com']"
      ]
     },
     "execution_count": 4,
     "metadata": {},
     "output_type": "execute_result"
    }
   ],
   "source": [
    "import string\n",
    "domains = [ \"hotmail.com\", \"gmail.com\", \"aol.com\", \"mail.com\" , \"mail.kz\", \"yahoo.com\"]\n",
    "letters = string.ascii_lowercase[:26]\n",
    "\n",
    "def get_random_domain(domains):\n",
    "    return random.choice(domains)\n",
    "\n",
    "def get_random_name(letters, length):\n",
    "    return ''.join(random.choice(letters) for i in range(length))\n",
    "\n",
    "def generate_random_emails(num):\n",
    "    return [get_random_name(letters, int(random.uniform(2,10))) + '@' + get_random_domain(domains) for i in range(num)]\n",
    "\n",
    "generate_random_emails(5)"
   ]
  },
  {
   "cell_type": "markdown",
   "metadata": {},
   "source": [
    "## Address Data\n",
    "- contains coords too"
   ]
  },
  {
   "cell_type": "code",
   "execution_count": 5,
   "metadata": {},
   "outputs": [
    {
     "name": "stdout",
     "output_type": "stream",
     "text": [
      "File loaded\n"
     ]
    }
   ],
   "source": [
    "import json\n",
    "try: \n",
    "    with open(os.path.join(data_path_external,'address.json')) as json_file:  \n",
    "        data = json.load(json_file)\n",
    "    print('File loaded')\n",
    "except:\n",
    "    print('Loading failed, curl from git...')\n",
    "    !curl -o os.path.join(data_path_external,'address.json') \"https://raw.githubusercontent.com/EthanRBrown/rrad/master/addresses-us-all.json\"\n",
    "    with open(os.path.join(data_path_external,'address.json')) as json_file:  \n",
    "            data = json.load(json_file)"
   ]
  },
  {
   "cell_type": "code",
   "execution_count": 6,
   "metadata": {},
   "outputs": [
    {
     "data": {
      "text/html": [
       "<div>\n",
       "<style scoped>\n",
       "    .dataframe tbody tr th:only-of-type {\n",
       "        vertical-align: middle;\n",
       "    }\n",
       "\n",
       "    .dataframe tbody tr th {\n",
       "        vertical-align: top;\n",
       "    }\n",
       "\n",
       "    .dataframe thead th {\n",
       "        text-align: right;\n",
       "    }\n",
       "</style>\n",
       "<table border=\"1\" class=\"dataframe\">\n",
       "  <thead>\n",
       "    <tr style=\"text-align: right;\">\n",
       "      <th></th>\n",
       "      <th>address1</th>\n",
       "      <th>address2</th>\n",
       "      <th>city</th>\n",
       "      <th>state</th>\n",
       "      <th>zip</th>\n",
       "      <th>lat</th>\n",
       "      <th>lng</th>\n",
       "    </tr>\n",
       "  </thead>\n",
       "  <tbody>\n",
       "    <tr>\n",
       "      <th>0</th>\n",
       "      <td>1745 T Street Southeast</td>\n",
       "      <td></td>\n",
       "      <td>Washington</td>\n",
       "      <td>DC</td>\n",
       "      <td>20020</td>\n",
       "      <td>38.867033</td>\n",
       "      <td>-76.979235</td>\n",
       "    </tr>\n",
       "    <tr>\n",
       "      <th>1</th>\n",
       "      <td>6007 Applegate Lane</td>\n",
       "      <td></td>\n",
       "      <td>Louisville</td>\n",
       "      <td>KY</td>\n",
       "      <td>40219</td>\n",
       "      <td>38.134301</td>\n",
       "      <td>-85.649851</td>\n",
       "    </tr>\n",
       "    <tr>\n",
       "      <th>2</th>\n",
       "      <td>560 Penstock Drive</td>\n",
       "      <td></td>\n",
       "      <td>Grass Valley</td>\n",
       "      <td>CA</td>\n",
       "      <td>95945</td>\n",
       "      <td>39.213076</td>\n",
       "      <td>-121.077583</td>\n",
       "    </tr>\n",
       "    <tr>\n",
       "      <th>3</th>\n",
       "      <td>150 Carter Street</td>\n",
       "      <td></td>\n",
       "      <td>Manchester</td>\n",
       "      <td>CT</td>\n",
       "      <td>06040</td>\n",
       "      <td>41.765560</td>\n",
       "      <td>-72.473091</td>\n",
       "    </tr>\n",
       "    <tr>\n",
       "      <th>4</th>\n",
       "      <td>2721 Lindsay Avenue</td>\n",
       "      <td></td>\n",
       "      <td>Louisville</td>\n",
       "      <td>KY</td>\n",
       "      <td>40206</td>\n",
       "      <td>38.263793</td>\n",
       "      <td>-85.700243</td>\n",
       "    </tr>\n",
       "  </tbody>\n",
       "</table>\n",
       "</div>"
      ],
      "text/plain": [
       "                  address1 address2          city state    zip        lat  \\\n",
       "0  1745 T Street Southeast             Washington    DC  20020  38.867033   \n",
       "1      6007 Applegate Lane             Louisville    KY  40219  38.134301   \n",
       "2       560 Penstock Drive           Grass Valley    CA  95945  39.213076   \n",
       "3        150 Carter Street             Manchester    CT  06040  41.765560   \n",
       "4      2721 Lindsay Avenue             Louisville    KY  40206  38.263793   \n",
       "\n",
       "          lng  \n",
       "0  -76.979235  \n",
       "1  -85.649851  \n",
       "2 -121.077583  \n",
       "3  -72.473091  \n",
       "4  -85.700243  "
      ]
     },
     "execution_count": 6,
     "metadata": {},
     "output_type": "execute_result"
    }
   ],
   "source": [
    "addresses = pd.concat([pd.DataFrame.from_dict(i,orient='index').T for i in data['addresses']],sort=False)\n",
    "addresses.reset_index(drop=True,inplace=True)\n",
    "addresses['lat'] = [x['lat'] for x in addresses['coordinates']]\n",
    "addresses['lng'] = [x['lng'] for x in addresses['coordinates']]\n",
    "addresses.drop('coordinates',axis=1, inplace=True)\n",
    "addresses.rename(columns={'postalCode':'zip'},inplace=True)\n",
    "addresses[:5]"
   ]
  },
  {
   "cell_type": "markdown",
   "metadata": {},
   "source": [
    "## Random Currency"
   ]
  },
  {
   "cell_type": "code",
   "execution_count": 7,
   "metadata": {},
   "outputs": [
    {
     "data": {
      "text/plain": [
       "['£ 7873445.710',\n",
       " '£ 8364827.800',\n",
       " '$ 2016084.661',\n",
       " '£ 8647339.615',\n",
       " 'GBP 2277228.228']"
      ]
     },
     "execution_count": 7,
     "metadata": {},
     "output_type": "execute_result"
    }
   ],
   "source": [
    "currency = [ \"$\", \"£\",'€', \"GBP\", \"USD\" , \"EUR\",]\n",
    "\n",
    "def get_random_currency(currency):\n",
    "    return random.choice(currency)\n",
    "\n",
    "def generate_random_money(num):\n",
    "    return ['{} {:.3f}'.format(get_random_currency(currency), random.uniform(0,10_000_000)) for i in range(num)]\n",
    "\n",
    "generate_random_money(5)"
   ]
  },
  {
   "cell_type": "markdown",
   "metadata": {},
   "source": [
    "## Random Policy References"
   ]
  },
  {
   "cell_type": "code",
   "execution_count": 8,
   "metadata": {},
   "outputs": [
    {
     "data": {
      "text/plain": [
       "['SPWH959', 'SGJH549', 'WNCF399', 'BUAG157']"
      ]
     },
     "execution_count": 8,
     "metadata": {},
     "output_type": "execute_result"
    }
   ],
   "source": [
    "policy = [ \"B\", \"Z\",'S', \"V\", \"W\" ]\n",
    "\n",
    "def get_random_policy(policy):\n",
    "    return random.choice(policy)\n",
    "\n",
    "def generate_random_policy(num):\n",
    "    return ['{}{}{:.0f}'.format(get_random_policy(policy),get_random_name(letters, int(random.uniform(3,4))).upper(), random.uniform(100,999)) for i in range(num)]\n",
    "\n",
    "generate_random_policy(4)"
   ]
  },
  {
   "cell_type": "markdown",
   "metadata": {},
   "source": [
    "## Random Name & Numbers"
   ]
  },
  {
   "cell_type": "code",
   "execution_count": 9,
   "metadata": {},
   "outputs": [
    {
     "name": "stdout",
     "output_type": "stream",
     "text": [
      "File loaded\n"
     ]
    }
   ],
   "source": [
    "try: \n",
    "    name_numbers = pd.read_csv(os.path.join(data_path_external,'name_number.txt')) \n",
    "    print('File loaded')\n",
    "except:\n",
    "    print('Loading failed, curl from git...')\n",
    "    !curl -o os.path.join(data_path_external,name_number.txt) \"https://raw.githubusercontent.com/emilybache/Phone-Numbers-Kata/master/phone_data_10000.txt\"\n",
    "    name_numbers = pd.read_csv(os.path.join(data_path_external,'name_number.txt'))"
   ]
  },
  {
   "cell_type": "code",
   "execution_count": 10,
   "metadata": {},
   "outputs": [],
   "source": [
    "name_split = name_numbers['Name'].str.split(' ').apply(pd.Series)\n",
    "name_numbers = name_numbers.merge(name_split, how='left', left_index=True,right_index=True).copy()\n",
    "name_numbers.rename(columns={0:'first_name',1:'last_name', 'Name':'person_name','Phone Number':'phone'}, inplace=True)"
   ]
  },
  {
   "cell_type": "markdown",
   "metadata": {},
   "source": [
    "# Compose"
   ]
  },
  {
   "cell_type": "code",
   "execution_count": 11,
   "metadata": {},
   "outputs": [],
   "source": [
    "data = addresses.copy()\n",
    "data['money'] = generate_random_money(len(data))\n",
    "data['reference'] = generate_random_policy(len(data))\n",
    "data['email'] = generate_random_emails(len(data))\n",
    "data = data.merge(name_numbers[:len(data)], how='left', left_index=True,right_index=True).copy()\n",
    "data['txt_cat'] = np.random.choice(['A','B','C','D','E'], len(data))\n",
    "data['num_cat'] = np.random.choice(['0','1','2','3','4'], len(data))\n",
    "data['numeric'] = [round(random.uniform(1000,9999)) for i in range(len(data))]"
   ]
  },
  {
   "cell_type": "code",
   "execution_count": 12,
   "metadata": {},
   "outputs": [
    {
     "data": {
      "text/html": [
       "<div>\n",
       "<style scoped>\n",
       "    .dataframe tbody tr th:only-of-type {\n",
       "        vertical-align: middle;\n",
       "    }\n",
       "\n",
       "    .dataframe tbody tr th {\n",
       "        vertical-align: top;\n",
       "    }\n",
       "\n",
       "    .dataframe thead th {\n",
       "        text-align: right;\n",
       "    }\n",
       "</style>\n",
       "<table border=\"1\" class=\"dataframe\">\n",
       "  <thead>\n",
       "    <tr style=\"text-align: right;\">\n",
       "      <th></th>\n",
       "      <th>address1</th>\n",
       "      <th>address2</th>\n",
       "      <th>city</th>\n",
       "      <th>state</th>\n",
       "      <th>zip</th>\n",
       "      <th>lat</th>\n",
       "      <th>lng</th>\n",
       "      <th>money</th>\n",
       "      <th>reference</th>\n",
       "      <th>email</th>\n",
       "      <th>person_name</th>\n",
       "      <th>phone</th>\n",
       "      <th>first_name</th>\n",
       "      <th>last_name</th>\n",
       "      <th>txt_cat</th>\n",
       "      <th>num_cat</th>\n",
       "      <th>numeric</th>\n",
       "    </tr>\n",
       "  </thead>\n",
       "  <tbody>\n",
       "    <tr>\n",
       "      <th>0</th>\n",
       "      <td>1745 T Street Southeast</td>\n",
       "      <td></td>\n",
       "      <td>Washington</td>\n",
       "      <td>DC</td>\n",
       "      <td>20020</td>\n",
       "      <td>38.867033</td>\n",
       "      <td>-76.979235</td>\n",
       "      <td>GBP 487760.350</td>\n",
       "      <td>SPCH308</td>\n",
       "      <td>mex@yahoo.com</td>\n",
       "      <td>Kimberlee Turlington</td>\n",
       "      <td>0345 42 0274</td>\n",
       "      <td>Kimberlee</td>\n",
       "      <td>Turlington</td>\n",
       "      <td>B</td>\n",
       "      <td>3</td>\n",
       "      <td>5181</td>\n",
       "    </tr>\n",
       "    <tr>\n",
       "      <th>1</th>\n",
       "      <td>6007 Applegate Lane</td>\n",
       "      <td></td>\n",
       "      <td>Louisville</td>\n",
       "      <td>KY</td>\n",
       "      <td>40219</td>\n",
       "      <td>38.134301</td>\n",
       "      <td>-85.649851</td>\n",
       "      <td>€ 7321963.108</td>\n",
       "      <td>VDEY870</td>\n",
       "      <td>rg@aol.com</td>\n",
       "      <td>Miguel Eveland</td>\n",
       "      <td>095086-173-31-37</td>\n",
       "      <td>Miguel</td>\n",
       "      <td>Eveland</td>\n",
       "      <td>A</td>\n",
       "      <td>4</td>\n",
       "      <td>2163</td>\n",
       "    </tr>\n",
       "    <tr>\n",
       "      <th>2</th>\n",
       "      <td>560 Penstock Drive</td>\n",
       "      <td></td>\n",
       "      <td>Grass Valley</td>\n",
       "      <td>CA</td>\n",
       "      <td>95945</td>\n",
       "      <td>39.213076</td>\n",
       "      <td>-121.077583</td>\n",
       "      <td>EUR 3341992.053</td>\n",
       "      <td>ZFPH671</td>\n",
       "      <td>ejbyy@hotmail.com</td>\n",
       "      <td>Alonzo Schroyer</td>\n",
       "      <td>057843 018 15-85</td>\n",
       "      <td>Alonzo</td>\n",
       "      <td>Schroyer</td>\n",
       "      <td>D</td>\n",
       "      <td>4</td>\n",
       "      <td>8193</td>\n",
       "    </tr>\n",
       "    <tr>\n",
       "      <th>3</th>\n",
       "      <td>150 Carter Street</td>\n",
       "      <td></td>\n",
       "      <td>Manchester</td>\n",
       "      <td>CT</td>\n",
       "      <td>06040</td>\n",
       "      <td>41.765560</td>\n",
       "      <td>-72.473091</td>\n",
       "      <td>€ 4397323.917</td>\n",
       "      <td>WMDG542</td>\n",
       "      <td>tfanfw@gmail.com</td>\n",
       "      <td>Devon Osei</td>\n",
       "      <td>0698-1368378</td>\n",
       "      <td>Devon</td>\n",
       "      <td>Osei</td>\n",
       "      <td>C</td>\n",
       "      <td>1</td>\n",
       "      <td>6134</td>\n",
       "    </tr>\n",
       "    <tr>\n",
       "      <th>4</th>\n",
       "      <td>2721 Lindsay Avenue</td>\n",
       "      <td></td>\n",
       "      <td>Louisville</td>\n",
       "      <td>KY</td>\n",
       "      <td>40206</td>\n",
       "      <td>38.263793</td>\n",
       "      <td>-85.700243</td>\n",
       "      <td>$ 7755233.425</td>\n",
       "      <td>SLLE128</td>\n",
       "      <td>xm@hotmail.com</td>\n",
       "      <td>Val Hoffmeyer</td>\n",
       "      <td>007 916 73 79</td>\n",
       "      <td>Val</td>\n",
       "      <td>Hoffmeyer</td>\n",
       "      <td>E</td>\n",
       "      <td>0</td>\n",
       "      <td>6663</td>\n",
       "    </tr>\n",
       "  </tbody>\n",
       "</table>\n",
       "</div>"
      ],
      "text/plain": [
       "                  address1 address2          city state    zip        lat  \\\n",
       "0  1745 T Street Southeast             Washington    DC  20020  38.867033   \n",
       "1      6007 Applegate Lane             Louisville    KY  40219  38.134301   \n",
       "2       560 Penstock Drive           Grass Valley    CA  95945  39.213076   \n",
       "3        150 Carter Street             Manchester    CT  06040  41.765560   \n",
       "4      2721 Lindsay Avenue             Louisville    KY  40206  38.263793   \n",
       "\n",
       "          lng            money reference              email  \\\n",
       "0  -76.979235   GBP 487760.350   SPCH308      mex@yahoo.com   \n",
       "1  -85.649851    € 7321963.108   VDEY870         rg@aol.com   \n",
       "2 -121.077583  EUR 3341992.053   ZFPH671  ejbyy@hotmail.com   \n",
       "3  -72.473091    € 4397323.917   WMDG542   tfanfw@gmail.com   \n",
       "4  -85.700243    $ 7755233.425   SLLE128     xm@hotmail.com   \n",
       "\n",
       "            person_name             phone first_name   last_name txt_cat  \\\n",
       "0  Kimberlee Turlington      0345 42 0274  Kimberlee  Turlington       B   \n",
       "1        Miguel Eveland  095086-173-31-37     Miguel     Eveland       A   \n",
       "2       Alonzo Schroyer  057843 018 15-85     Alonzo    Schroyer       D   \n",
       "3            Devon Osei      0698-1368378      Devon        Osei       C   \n",
       "4         Val Hoffmeyer     007 916 73 79        Val   Hoffmeyer       E   \n",
       "\n",
       "  num_cat  numeric  \n",
       "0       3     5181  \n",
       "1       4     2163  \n",
       "2       4     8193  \n",
       "3       1     6134  \n",
       "4       0     6663  "
      ]
     },
     "execution_count": 12,
     "metadata": {},
     "output_type": "execute_result"
    }
   ],
   "source": [
    "data[:5]"
   ]
  },
  {
   "cell_type": "markdown",
   "metadata": {},
   "source": [
    "## Train-Test split"
   ]
  },
  {
   "cell_type": "code",
   "execution_count": 18,
   "metadata": {},
   "outputs": [
    {
     "name": "stdout",
     "output_type": "stream",
     "text": [
      "Train 2000 : Test 1220\n"
     ]
    }
   ],
   "source": [
    "training_data = data[:2000].copy()\n",
    "testing_data = data[2000:].reset_index(drop=True).copy()\n",
    "print('Train {} : Test {}'.format(len(training_data),len(testing_data)))"
   ]
  },
  {
   "cell_type": "code",
   "execution_count": 14,
   "metadata": {},
   "outputs": [],
   "source": [
    "training_data.to_csv(os.path.join(data_path_model,'training_data.csv'),index=False)"
   ]
  },
  {
   "cell_type": "markdown",
   "metadata": {},
   "source": [
    "## Prep Test Data"
   ]
  },
  {
   "cell_type": "code",
   "execution_count": 19,
   "metadata": {},
   "outputs": [],
   "source": [
    "#testing_data.columns = [l for l in letters[:len(data.columns)]]\n",
    "\n",
    "size=50\n",
    "list_of_test_dfs = [testing_data.loc[i:i+size-1,:] for i in range(0, len(testing_data),size)]\n",
    "\n",
    "for e,test_df in enumerate(list_of_test_dfs):\n",
    "    test_df.to_csv(os.path.join(data_path_model,'testing_data_{}.csv'.format(e)),index=False)"
   ]
  },
  {
   "cell_type": "code",
   "execution_count": null,
   "metadata": {},
   "outputs": [],
   "source": []
  }
 ],
 "metadata": {
  "kernelspec": {
   "display_name": "Python 3",
   "language": "python",
   "name": "python3"
  },
  "language_info": {
   "codemirror_mode": {
    "name": "ipython",
    "version": 3
   },
   "file_extension": ".py",
   "mimetype": "text/x-python",
   "name": "python",
   "nbconvert_exporter": "python",
   "pygments_lexer": "ipython3",
   "version": "3.7.0"
  }
 },
 "nbformat": 4,
 "nbformat_minor": 2
}
